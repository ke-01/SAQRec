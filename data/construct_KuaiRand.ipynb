{
 "cells": [
  {
   "cell_type": "code",
   "execution_count": null,
   "metadata": {},
   "outputs": [],
   "source": [
    "import pandas as pd\n",
    "import numpy as np\n",
    "import pickle"
   ]
  },
  {
   "cell_type": "code",
   "execution_count": null,
   "metadata": {},
   "outputs": [],
   "source": [
    "sel_col=['user_id','video_id','time_ms','is_click','is_like','is_hate','play_time_ms']\n",
    "df1_part1 = pd.read_csv(\"data/log_standard_4_08_to_4_21_27k_part1.csv\", nrows=100000000, usecols=sel_col)"
   ]
  },
  {
   "cell_type": "code",
   "execution_count": null,
   "metadata": {},
   "outputs": [],
   "source": [
    "df_click=df1_part1[df1_part1['is_click']==1]"
   ]
  },
  {
   "cell_type": "code",
   "execution_count": null,
   "metadata": {},
   "outputs": [],
   "source": [
    "df=df_click"
   ]
  },
  {
   "cell_type": "code",
   "execution_count": null,
   "metadata": {},
   "outputs": [],
   "source": [
    "hate_rows = df[df['is_hate'] == 1][['user_id', 'video_id']]"
   ]
  },
  {
   "cell_type": "code",
   "execution_count": null,
   "metadata": {},
   "outputs": [],
   "source": [
    "# is_hate \n",
    "result_df = df[(df['user_id'].isin(hate_rows['user_id'])) | (df['video_id'].isin(hate_rows['video_id']))]"
   ]
  },
  {
   "cell_type": "code",
   "execution_count": null,
   "metadata": {},
   "outputs": [],
   "source": [
    "id_counts = result_df['video_id'].value_counts()\n",
    "ids_to_remove = id_counts[id_counts < 5].index\n",
    "df2 = result_df[~result_df['video_id'].isin(ids_to_remove) | result_df['video_id'].isin(hate_rows['video_id'])]"
   ]
  },
  {
   "cell_type": "code",
   "execution_count": null,
   "metadata": {},
   "outputs": [],
   "source": [
    "id_counts = df2['user_id'].value_counts()\n",
    "ids_to_remove = id_counts[id_counts < 5].index\n",
    "df_filtered = df2[~df2['user_id'].isin(ids_to_remove)| df2['user_id'].isin(hate_rows['user_id'])]"
   ]
  },
  {
   "cell_type": "code",
   "execution_count": null,
   "metadata": {},
   "outputs": [],
   "source": [
    "id_counts = df_filtered['video_id'].value_counts()\n",
    "ids_to_remove = id_counts[id_counts < 5].index\n",
    "df2 = df_filtered[~df_filtered['video_id'].isin(ids_to_remove) | df_filtered['video_id'].isin(hate_rows['video_id'])]"
   ]
  },
  {
   "cell_type": "code",
   "execution_count": null,
   "metadata": {},
   "outputs": [],
   "source": [
    "df=df2"
   ]
  },
  {
   "cell_type": "code",
   "execution_count": null,
   "metadata": {},
   "outputs": [],
   "source": [
    "df['satis'] = 0.5  \n",
    "df.loc[df['is_like'] == 1, 'satis'] = 1  \n",
    "df.loc[df['is_hate'] == 1, 'satis'] = 0  "
   ]
  },
  {
   "cell_type": "code",
   "execution_count": null,
   "metadata": {},
   "outputs": [],
   "source": [
    "df = df.drop(df[(df['is_hate'] == 1) & (df['is_like'] == 1)].index)"
   ]
  },
  {
   "cell_type": "code",
   "execution_count": null,
   "metadata": {},
   "outputs": [],
   "source": [
    "df = df.drop_duplicates() "
   ]
  },
  {
   "cell_type": "code",
   "execution_count": null,
   "metadata": {},
   "outputs": [],
   "source": [
    "id_counts = df['user_id'].value_counts()\n",
    "ids_to_remove = id_counts[id_counts < 5].index\n",
    "df_filtered = df[~df['user_id'].isin(ids_to_remove)| df['user_id'].isin(hate_rows['user_id'])]"
   ]
  },
  {
   "cell_type": "code",
   "execution_count": null,
   "metadata": {},
   "outputs": [],
   "source": [
    "id_counts = df_filtered['video_id'].value_counts()\n",
    "ids_to_remove = id_counts[id_counts < 5].index\n",
    "df = df_filtered[~df_filtered['video_id'].isin(ids_to_remove) | df_filtered['video_id'].isin(hate_rows['video_id'])]"
   ]
  },
  {
   "cell_type": "code",
   "execution_count": null,
   "metadata": {},
   "outputs": [],
   "source": [
    "id_counts = df['user_id'].value_counts()\n",
    "ids_to_remove = id_counts[id_counts < 5].index\n",
    "df_filtered = df[~df['user_id'].isin(ids_to_remove)| df['user_id'].isin(hate_rows['user_id'])]"
   ]
  },
  {
   "cell_type": "code",
   "execution_count": null,
   "metadata": {},
   "outputs": [],
   "source": [
    "data_click=df_filtered"
   ]
  },
  {
   "cell_type": "code",
   "execution_count": null,
   "metadata": {},
   "outputs": [],
   "source": [
    "train_data_list = []\n",
    "validation_data_list = []\n",
    "test_data_list = []\n",
    "u_id_less=[]\n",
    "\n",
    "for _, group_data in data_click.groupby('user_id'):\n",
    "    if len(group_data) >= 5:\n",
    "        test_data_list.append(group_data.iloc[-1])\n",
    "        validation_data_list.append(group_data.iloc[-2])\n",
    "        train_data_list.append(group_data.iloc[:-2])\n",
    "    else:\n",
    "        u_id_less.append(group_data)\n",
    "        print('error')"
   ]
  },
  {
   "cell_type": "code",
   "execution_count": null,
   "metadata": {},
   "outputs": [],
   "source": [
    "train_data_list=pd.concat(train_data_list)"
   ]
  },
  {
   "cell_type": "code",
   "execution_count": null,
   "metadata": {},
   "outputs": [],
   "source": [
    "train_data = pd.DataFrame(train_data_list)\n",
    "validation_data = pd.DataFrame(validation_data_list)\n",
    "test_data = pd.DataFrame(test_data_list)"
   ]
  },
  {
   "cell_type": "code",
   "execution_count": null,
   "metadata": {},
   "outputs": [],
   "source": [
    "train_data.sort_values(by=['user_id','time_ms'], inplace=True)"
   ]
  },
  {
   "cell_type": "code",
   "execution_count": null,
   "metadata": {},
   "outputs": [],
   "source": [
    "data_sel=data_click[data_click['user_id'].isin(train_data['user_id'])]"
   ]
  },
  {
   "cell_type": "code",
   "execution_count": null,
   "metadata": {},
   "outputs": [],
   "source": [
    "df_sel=data_sel\n",
    "click_h = df_sel[df_sel['is_click'] == 1]"
   ]
  },
  {
   "cell_type": "code",
   "execution_count": null,
   "metadata": {},
   "outputs": [],
   "source": [
    "grouped_df = click_h.groupby('user_id').apply(lambda x: x.sort_values('time_ms'))\n",
    "result_df = grouped_df[['video_id','play_time_ms','time_ms']]\n",
    "unique_values_a = result_df.index.get_level_values(0).unique()"
   ]
  },
  {
   "cell_type": "code",
   "execution_count": null,
   "metadata": {},
   "outputs": [],
   "source": [
    "user_his={}\n",
    "for user_id in unique_values_a:\n",
    "    user_data = result_df.loc[user_id]\n",
    "    user_his[user_id]={}    \n",
    "    user_his[user_id]['click_his']=user_data['video_id'].tolist()\n",
    "    user_his[user_id]['play_time_ms']=user_data['play_time_ms'].tolist()\n",
    "    user_his[user_id]['click_time_ms']=user_data['time_ms'].tolist()        "
   ]
  },
  {
   "cell_type": "code",
   "execution_count": null,
   "metadata": {},
   "outputs": [],
   "source": [
    "# satis his\n",
    "satis_h = df_sel[df_sel['satis'] == 1]\n",
    "grouped_df = satis_h.groupby('user_id').apply(lambda x: x.sort_values('time_ms'))\n",
    "result_df = grouped_df[['video_id','time_ms']]\n",
    "unique_values_a = result_df.index.get_level_values(0).unique()\n",
    "satis_his={}\n",
    "for user_id in unique_values_a:\n",
    "    user_data = result_df.loc[user_id]\n",
    "    satis_his[user_id]={}\n",
    "    satis_his[user_id]['satis_his']=user_data['video_id'].tolist()\n",
    "    satis_his[user_id]['satis_time_ms']=user_data['time_ms'].tolist()    "
   ]
  },
  {
   "cell_type": "code",
   "execution_count": null,
   "metadata": {},
   "outputs": [],
   "source": [
    "for key in user_his.keys():\n",
    "    if key in satis_his:\n",
    "        user_his[key].update(satis_his[key])\n",
    "    else:\n",
    "        satis_his[key]={}\n",
    "        satis_his[key]['satis_his']=[]\n",
    "        satis_his[key]['satis_time_ms']=[]\n",
    "        user_his[key].update(satis_his[key])"
   ]
  },
  {
   "cell_type": "code",
   "execution_count": null,
   "metadata": {},
   "outputs": [],
   "source": [
    "# dissatis his\n",
    "dissatis_h = df_sel[df_sel['satis'] == 0]\n",
    "grouped_df = dissatis_h.groupby('user_id').apply(lambda x: x.sort_values('time_ms'))\n",
    "result_df = grouped_df[['video_id','time_ms']]\n",
    "unique_values_a = result_df.index.get_level_values(0).unique()\n",
    "dissatis_his={}\n",
    "for user_id in unique_values_a:\n",
    "    user_data = result_df.loc[user_id]\n",
    "    dissatis_his[user_id]={}\n",
    "    dissatis_his[user_id]['dissatis_his']=user_data['video_id'].tolist()\n",
    "    dissatis_his[user_id]['dissatis_time_ms']=user_data['time_ms'].tolist()"
   ]
  },
  {
   "cell_type": "code",
   "execution_count": null,
   "metadata": {},
   "outputs": [],
   "source": [
    "for key in user_his.keys():\n",
    "    if key in dissatis_his:\n",
    "        user_his[key].update(dissatis_his[key])\n",
    "    else:\n",
    "        dissatis_his[key]={}\n",
    "        dissatis_his[key]['dissatis_his']=[]\n",
    "        dissatis_his[key]['dissatis_time_ms']=[]\n",
    "        user_his[key].update(dissatis_his[key])"
   ]
  },
  {
   "cell_type": "code",
   "execution_count": null,
   "metadata": {},
   "outputs": [],
   "source": [
    "# for user features\n",
    "user_features = pd.read_csv(\"data/user_features_27k.csv\")"
   ]
  },
  {
   "cell_type": "code",
   "execution_count": null,
   "metadata": {},
   "outputs": [],
   "source": [
    "print(user_features['onehot_feat0'].max())\n",
    "print(user_features['onehot_feat1'].max())\n",
    "print(user_features['onehot_feat2'].max())\n",
    "print(user_features['onehot_feat3'].max())\n",
    "print(user_features['onehot_feat5'].max())\n",
    "print(user_features['onehot_feat6'].max())\n",
    "print(user_features['onehot_feat7'].max())\n",
    "print(user_features['onehot_feat8'].max())\n",
    "print(user_features['onehot_feat9'].max())\n",
    "print(user_features['onehot_feat10'].max())\n",
    "print(user_features['onehot_feat11'].max())"
   ]
  },
  {
   "cell_type": "code",
   "execution_count": null,
   "metadata": {},
   "outputs": [],
   "source": [
    "user_features = user_features.dropna(axis=1)"
   ]
  },
  {
   "cell_type": "code",
   "execution_count": null,
   "metadata": {},
   "outputs": [],
   "source": [
    "sel_cols=['user_id','onehot_feat2','onehot_feat5','onehot_feat7','onehot_feat8']"
   ]
  },
  {
   "cell_type": "code",
   "execution_count": null,
   "metadata": {},
   "outputs": [],
   "source": [
    "user_features=user_features[sel_cols]\n",
    "user_features=user_features[user_features['user_id'].isin(train_data['user_id'])]"
   ]
  },
  {
   "cell_type": "code",
   "execution_count": null,
   "metadata": {},
   "outputs": [],
   "source": [
    "# add id\n",
    "user_features['id']=range(len(user_features))"
   ]
  },
  {
   "cell_type": "code",
   "execution_count": null,
   "metadata": {},
   "outputs": [],
   "source": [
    "# to dict\n",
    "user_vocab = user_features.set_index('user_id').to_dict(orient='index')"
   ]
  },
  {
   "cell_type": "code",
   "execution_count": null,
   "metadata": {},
   "outputs": [],
   "source": [
    "for key in user_vocab.keys():\n",
    "    if key in user_his:\n",
    "        user_vocab[key].update(user_his[key])       "
   ]
  },
  {
   "cell_type": "code",
   "execution_count": null,
   "metadata": {},
   "outputs": [],
   "source": [
    "with open('kuairand_user_vocab.pickle', 'wb') as pickle_file:\n",
    "    pickle.dump(user_vocab, pickle_file)"
   ]
  },
  {
   "cell_type": "code",
   "execution_count": null,
   "metadata": {},
   "outputs": [],
   "source": [
    "df=df_sel"
   ]
  },
  {
   "cell_type": "code",
   "execution_count": null,
   "metadata": {},
   "outputs": [],
   "source": [
    "df.sort_values(by=['user_id','time_ms'], inplace=True)"
   ]
  },
  {
   "cell_type": "code",
   "execution_count": null,
   "metadata": {},
   "outputs": [],
   "source": [
    "df['count_click'] = df.groupby('user_id')['is_click'].apply(lambda x: (x == 1) ).groupby(df['user_id']).cumsum()\n",
    "df['count_click'] -= (df['is_click'] == 1).astype(int)"
   ]
  },
  {
   "cell_type": "code",
   "execution_count": null,
   "metadata": {},
   "outputs": [],
   "source": [
    "df['cnt_satis'] = df.groupby('user_id')['is_like'].apply(lambda x: (x == 1) ).groupby(df['user_id']).cumsum()\n",
    "df['cnt_satis'] -= (df['is_like'] == 1).astype(int)"
   ]
  },
  {
   "cell_type": "code",
   "execution_count": null,
   "metadata": {},
   "outputs": [],
   "source": [
    "df['cnt_dissatis'] = df.groupby('user_id')['is_hate'].apply(lambda x: (x == 1) ).groupby(df['user_id']).cumsum()\n",
    "df['cnt_dissatis'] -= (df['is_hate'] == 1).astype(int)"
   ]
  },
  {
   "cell_type": "code",
   "execution_count": null,
   "metadata": {},
   "outputs": [],
   "source": [
    "data_click=df"
   ]
  },
  {
   "cell_type": "code",
   "execution_count": null,
   "metadata": {},
   "outputs": [],
   "source": [
    "train_data_list = []\n",
    "validation_data_list = []\n",
    "test_data_list = []\n",
    "u_id_less=[]\n",
    "\n",
    "for _, group_data in data_click.groupby('user_id'):\n",
    "    if len(group_data) >= 5:\n",
    "        test_data_list.append(group_data.iloc[-1])\n",
    "        validation_data_list.append(group_data.iloc[-2])\n",
    "        train_data_list.append(group_data.iloc[:-2])\n",
    "    else:\n",
    "        u_id_less.append(group_data)\n",
    "        print('error')"
   ]
  },
  {
   "cell_type": "code",
   "execution_count": null,
   "metadata": {},
   "outputs": [],
   "source": [
    "train_data_list=pd.concat(train_data_list)"
   ]
  },
  {
   "cell_type": "code",
   "execution_count": null,
   "metadata": {},
   "outputs": [],
   "source": [
    "train_data = pd.DataFrame(train_data_list)\n",
    "validation_data = pd.DataFrame(validation_data_list)\n",
    "test_data = pd.DataFrame(test_data_list)"
   ]
  },
  {
   "cell_type": "code",
   "execution_count": null,
   "metadata": {},
   "outputs": [],
   "source": [
    "train_data.sort_values(by=['user_id','time_ms'], inplace=True)"
   ]
  },
  {
   "cell_type": "code",
   "execution_count": null,
   "metadata": {},
   "outputs": [],
   "source": [
    "u_id_list = train_data['user_id'].unique()"
   ]
  },
  {
   "cell_type": "code",
   "execution_count": null,
   "metadata": {},
   "outputs": [],
   "source": [
    "i_id_list = data_click['video_id'].unique()"
   ]
  },
  {
   "cell_type": "code",
   "execution_count": null,
   "metadata": {},
   "outputs": [],
   "source": [
    "# val\n",
    "negative_items_dict_val2 = {}\n",
    "i=0\n",
    "for u_id in u_id_list:\n",
    "    if i%500==0:print(i)\n",
    "    i+=1\n",
    "    click_history = user_vocab[u_id]['click_his'][:-2]\n",
    "    sample_set_np = np.array(i_id_list)\n",
    "    mask = np.isin(sample_set_np, click_history)\n",
    "    filtered_i_id_list=sample_set_np[~mask]\n",
    "    negative_samples = np.random.choice(filtered_i_id_list, size=99)\n",
    "    negative_items_dict_val2[u_id] = negative_samples.tolist()"
   ]
  },
  {
   "cell_type": "code",
   "execution_count": null,
   "metadata": {},
   "outputs": [],
   "source": [
    "validation_negative_items = []\n",
    "for u_id, neg_items in negative_items_dict_val2.items():\n",
    "    validation_negative_items.extend(neg_items)"
   ]
  },
  {
   "cell_type": "code",
   "execution_count": null,
   "metadata": {},
   "outputs": [],
   "source": [
    "# test\n",
    "negative_items_dict_test2 = {}\n",
    "i=0\n",
    "for u_id in u_id_list:\n",
    "    if i%500==0:print(i)\n",
    "    i+=1\n",
    "    click_history = user_vocab[u_id]['click_his'][:-1]\n",
    "    sample_set_np = np.array(i_id_list)\n",
    "    mask = np.isin(sample_set_np, click_history)\n",
    "    filtered_i_id_list=sample_set_np[~mask]\n",
    "    negative_samples = np.random.choice(filtered_i_id_list, size=99)\n",
    "    negative_items_dict_test2[u_id] = negative_samples.tolist()"
   ]
  },
  {
   "cell_type": "code",
   "execution_count": null,
   "metadata": {},
   "outputs": [],
   "source": [
    "test_negative_items = []\n",
    "for u_id, neg_items in negative_items_dict_test2.items():\n",
    "    test_negative_items.extend(neg_items)"
   ]
  },
  {
   "cell_type": "code",
   "execution_count": null,
   "metadata": {},
   "outputs": [],
   "source": [
    "validation_data_item = pd.DataFrame({'user_id': u_id_list.repeat(99), 'video_id': validation_negative_items})\n",
    "test_data_item = pd.DataFrame({'user_id': u_id_list.repeat(99), 'video_id': test_negative_items})"
   ]
  },
  {
   "cell_type": "code",
   "execution_count": null,
   "metadata": {},
   "outputs": [],
   "source": [
    "validation_data = pd.concat([validation_data, validation_data_item], ignore_index=True)\n",
    "test_data = pd.concat([test_data, test_data_item], ignore_index=True)"
   ]
  },
  {
   "cell_type": "code",
   "execution_count": null,
   "metadata": {},
   "outputs": [],
   "source": [
    "validation_data.sort_values(by=['user_id','satis'], inplace=True) \n",
    "validation_data['time_ms'] = validation_data['time_ms'].fillna(method='ffill')\n",
    "validation_data['is_click'] = validation_data['is_click'].fillna(0)\n",
    "validation_data['cnt_dissatis'] = validation_data['cnt_dissatis'].fillna(method='ffill')\n",
    "validation_data['play_time_ms'] = validation_data['play_time_ms'].fillna(method='ffill')\n",
    "validation_data['cnt_satis'] = validation_data['cnt_satis'].fillna(method='ffill')\n",
    "validation_data['count_click'] = validation_data['count_click'].fillna(method='ffill')\n",
    "validation_data['satis'] = validation_data['satis'].fillna(0.5)"
   ]
  },
  {
   "cell_type": "code",
   "execution_count": null,
   "metadata": {},
   "outputs": [],
   "source": [
    "test_data.sort_values(by=['user_id','satis'], inplace=True)\n",
    "test_data['time_ms'] = test_data['time_ms'].fillna(method='ffill')\n",
    "test_data['cnt_dissatis'] = test_data['cnt_dissatis'].fillna(method='ffill')\n",
    "test_data['play_time_ms'] = test_data['play_time_ms'].fillna(method='ffill')\n",
    "test_data['cnt_satis'] = test_data['cnt_satis'].fillna(method='ffill')\n",
    "test_data['count_click'] = test_data['count_click'].fillna(method='ffill')\n",
    "test_data['is_click'] = test_data['is_click'].fillna(0)\n",
    "test_data['satis'] = test_data['satis'].fillna(0.5)"
   ]
  },
  {
   "cell_type": "code",
   "execution_count": null,
   "metadata": {},
   "outputs": [],
   "source": [
    "train_data=train_data[train_data['count_click']>0]"
   ]
  },
  {
   "cell_type": "code",
   "execution_count": null,
   "metadata": {},
   "outputs": [],
   "source": [
    "# item features\n",
    "video_features_basic = pd.read_csv(\"data/video_features_basic_27k.csv\")"
   ]
  },
  {
   "cell_type": "code",
   "execution_count": null,
   "metadata": {},
   "outputs": [],
   "source": [
    "item_vocab=video_features_basic[video_features_basic['video_id'].isin(data_click['video_id'])]"
   ]
  },
  {
   "cell_type": "code",
   "execution_count": null,
   "metadata": {},
   "outputs": [],
   "source": [
    "active_values = item_vocab['upload_type'].unique()\n",
    "active_encoding_dict = {value: idx for idx, value in enumerate(active_values)}\n",
    "item_vocab['upload_type']=item_vocab['upload_type'].map(active_encoding_dict)"
   ]
  },
  {
   "cell_type": "code",
   "execution_count": null,
   "metadata": {},
   "outputs": [],
   "source": [
    "active_values = item_vocab['music_type'].unique()\n",
    "active_encoding_dict = {value: idx for idx, value in enumerate(active_values)}\n",
    "item_vocab['music_type']=item_vocab['music_type'].map(active_encoding_dict)"
   ]
  },
  {
   "cell_type": "code",
   "execution_count": null,
   "metadata": {},
   "outputs": [],
   "source": [
    "# add id\n",
    "item_vocab['id']=range(len(item_vocab))\n",
    "item_vocab['id']+=1"
   ]
  },
  {
   "cell_type": "code",
   "execution_count": null,
   "metadata": {},
   "outputs": [],
   "source": [
    "sel_cols=['video_id','id','upload_type','music_type','tag']\n",
    "item_vocab=item_vocab[sel_cols]"
   ]
  },
  {
   "cell_type": "code",
   "execution_count": null,
   "metadata": {},
   "outputs": [],
   "source": [
    "print(item_vocab['upload_type'].max())\n",
    "print(item_vocab['music_type'].max())"
   ]
  },
  {
   "cell_type": "code",
   "execution_count": null,
   "metadata": {},
   "outputs": [],
   "source": [
    "# to dict\n",
    "item_vocab = item_vocab.set_index('video_id').to_dict(orient='index')"
   ]
  },
  {
   "cell_type": "code",
   "execution_count": null,
   "metadata": {},
   "outputs": [],
   "source": [
    "with open('kuairand_item_vocab.pickle', 'wb') as pickle_file:\n",
    "    pickle.dump(item_vocab, pickle_file)"
   ]
  },
  {
   "cell_type": "code",
   "execution_count": null,
   "metadata": {},
   "outputs": [],
   "source": [
    "df=train_data"
   ]
  },
  {
   "cell_type": "code",
   "execution_count": null,
   "metadata": {},
   "outputs": [],
   "source": [
    "valid_users = df[df['is_like'] == 1 | (df['is_hate'] == 1)]['user_id']\n",
    "filtered_df = df[df['user_id'].isin(valid_users)]"
   ]
  },
  {
   "cell_type": "code",
   "execution_count": null,
   "metadata": {},
   "outputs": [],
   "source": [
    "train_data=filtered_df"
   ]
  },
  {
   "cell_type": "code",
   "execution_count": null,
   "metadata": {},
   "outputs": [],
   "source": [
    "validation_data=validation_data[validation_data['user_id'].isin(train_data['user_id'])]\n",
    "test_data=test_data[test_data['user_id'].isin(train_data['user_id'])]"
   ]
  },
  {
   "cell_type": "code",
   "execution_count": null,
   "metadata": {},
   "outputs": [],
   "source": [
    "df2=train_data"
   ]
  },
  {
   "cell_type": "code",
   "execution_count": null,
   "metadata": {},
   "outputs": [],
   "source": [
    "hate_rows = df2[df2['is_hate'] == 1][['user_id', 'video_id']]"
   ]
  },
  {
   "cell_type": "code",
   "execution_count": null,
   "metadata": {},
   "outputs": [],
   "source": [
    "id_counts = df2['user_id'].value_counts()\n",
    "ids_to_remove = id_counts[id_counts < 3].index\n",
    "df_filtered = df2[~df2['user_id'].isin(ids_to_remove)| df2['user_id'].isin(hate_rows['user_id'])]"
   ]
  },
  {
   "cell_type": "code",
   "execution_count": null,
   "metadata": {},
   "outputs": [],
   "source": [
    "id_counts = df_filtered['video_id'].value_counts()\n",
    "ids_to_remove = id_counts[id_counts < 5].index\n",
    "df2 = df_filtered[~df_filtered['video_id'].isin(ids_to_remove) | df_filtered['video_id'].isin(hate_rows['video_id'])]"
   ]
  },
  {
   "cell_type": "code",
   "execution_count": null,
   "metadata": {},
   "outputs": [],
   "source": [
    "id_counts = df2['user_id'].value_counts()\n",
    "ids_to_remove = id_counts[id_counts < 3].index\n",
    "df_filtered = df2[~df2['user_id'].isin(ids_to_remove)| df2['user_id'].isin(hate_rows['user_id'])]"
   ]
  },
  {
   "cell_type": "code",
   "execution_count": null,
   "metadata": {},
   "outputs": [],
   "source": [
    "id_counts = df_filtered['video_id'].value_counts()\n",
    "ids_to_remove = id_counts[id_counts < 5].index\n",
    "df2 = df_filtered[~df_filtered['video_id'].isin(ids_to_remove) | df_filtered['video_id'].isin(hate_rows['video_id'])]"
   ]
  },
  {
   "cell_type": "code",
   "execution_count": null,
   "metadata": {},
   "outputs": [],
   "source": [
    "validation_data=validation_data[validation_data['user_id'].isin(train_data['user_id'])]\n",
    "test_data=test_data[test_data['user_id'].isin(train_data['user_id'])]"
   ]
  },
  {
   "cell_type": "code",
   "execution_count": null,
   "metadata": {},
   "outputs": [],
   "source": [
    "train_data=df2"
   ]
  },
  {
   "cell_type": "code",
   "execution_count": null,
   "metadata": {},
   "outputs": [],
   "source": [
    "train_data.to_csv('kuairand_train.tsv',sep='\\t',index=False)\n",
    "validation_data.to_csv('kuairand_val.tsv',sep='\\t',index=False)\n",
    "test_data.to_csv('kuairand_test.tsv',sep='\\t',index=False)"
   ]
  },
  {
   "cell_type": "code",
   "execution_count": null,
   "metadata": {},
   "outputs": [],
   "source": [
    "u_id_list = train_data['user_id'].unique()"
   ]
  },
  {
   "cell_type": "code",
   "execution_count": null,
   "metadata": {},
   "outputs": [],
   "source": [
    "for key in list(user_vocab.keys()):\n",
    "    if key not in u_id_list:\n",
    "        user_vocab.pop(key)"
   ]
  },
  {
   "cell_type": "code",
   "execution_count": null,
   "metadata": {},
   "outputs": [],
   "source": [
    "id_cnt=0\n",
    "for key, value in user_vocab.items():\n",
    "    value['id'] = id_cnt  \n",
    "    id_cnt+=1"
   ]
  },
  {
   "cell_type": "code",
   "execution_count": null,
   "metadata": {},
   "outputs": [],
   "source": [
    "with open('kuairand_user_vocab.pickle', 'wb') as pickle_file:\n",
    "    pickle.dump(user_vocab, pickle_file)"
   ]
  },
  {
   "cell_type": "code",
   "execution_count": null,
   "metadata": {},
   "outputs": [],
   "source": [
    "# for satis tower\n",
    "df=train_data"
   ]
  },
  {
   "cell_type": "code",
   "execution_count": null,
   "metadata": {},
   "outputs": [],
   "source": [
    "like_users = df[df['is_like'] == 1]['user_id'].unique()\n",
    "hate_users = df[df['is_hate'] == 1]['user_id'].unique()\n",
    "both_like_and_hate_users = set(like_users) & set(hate_users)\n",
    "df_both = df[df['user_id'].isin(both_like_and_hate_users)]"
   ]
  },
  {
   "cell_type": "code",
   "execution_count": null,
   "metadata": {},
   "outputs": [],
   "source": [
    "df_reward=df_both[df_both['satis']!=0.5]"
   ]
  },
  {
   "cell_type": "code",
   "execution_count": null,
   "metadata": {},
   "outputs": [],
   "source": [
    "df_reward.to_csv('kuairand_satis.tsv',sep='\\t',index=False)"
   ]
  },
  {
   "cell_type": "code",
   "execution_count": null,
   "metadata": {},
   "outputs": [],
   "source": [
    "train_data.loc[~train_data['user_id'].isin(df_reward['user_id']), 'satis'] = 0.5"
   ]
  },
  {
   "cell_type": "code",
   "execution_count": null,
   "metadata": {},
   "outputs": [],
   "source": [
    "train_data.to_csv('kuairand_train.tsv',sep='\\t',index=False)"
   ]
  }
 ],
 "metadata": {
  "kernelspec": {
   "display_name": "Python 3",
   "language": "python",
   "name": "python3"
  },
  "language_info": {
   "codemirror_mode": {
    "name": "ipython",
    "version": 3
   },
   "file_extension": ".py",
   "mimetype": "text/x-python",
   "name": "python",
   "nbconvert_exporter": "python",
   "pygments_lexer": "ipython3",
   "version": "3.9.6"
  }
 },
 "nbformat": 4,
 "nbformat_minor": 2
}
